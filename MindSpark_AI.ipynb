{
  "cells": [
    {
      "cell_type": "markdown",
      "metadata": {
        "id": "view-in-github",
        "colab_type": "text"
      },
      "source": [
        "<a href=\"https://colab.research.google.com/github/LuisOrtizVega/Student-Planner/blob/main/MindSpark_AI.ipynb\" target=\"_parent\"><img src=\"https://colab.research.google.com/assets/colab-badge.svg\" alt=\"Open In Colab\"/></a>"
      ]
    },
    {
      "cell_type": "markdown",
      "metadata": {
        "id": "2ou7Qn_ZzWUj"
      },
      "source": [
        "# MindSpark AI setup With Gemini"
      ]
    },
    {
      "cell_type": "code",
      "execution_count": null,
      "metadata": {
        "id": "Q0b8sT-Nwn3b",
        "colab": {
          "base_uri": "https://localhost:8080/"
        },
        "outputId": "0ac47d10-5a80-4377-d576-346bf887af23"
      },
      "outputs": [
        {
          "output_type": "stream",
          "name": "stdout",
          "text": [
            "\u001b[2K     \u001b[90m━━━━━━━━━━━━━━━━━━━━━━━━━━━━━━━━━━━━━━━━\u001b[0m \u001b[32m142.1/142.1 kB\u001b[0m \u001b[31m1.5 MB/s\u001b[0m eta \u001b[36m0:00:00\u001b[0m\n",
            "\u001b[2K     \u001b[90m━━━━━━━━━━━━━━━━━━━━━━━━━━━━━━━━━━━━━━━━\u001b[0m \u001b[32m663.6/663.6 kB\u001b[0m \u001b[31m5.2 MB/s\u001b[0m eta \u001b[36m0:00:00\u001b[0m\n",
            "\u001b[?25h"
          ]
        }
      ],
      "source": [
        "!pip install -q -U google-generativeai"
      ]
    },
    {
      "cell_type": "code",
      "execution_count": null,
      "metadata": {
        "id": "VWMkMXD3w73m"
      },
      "outputs": [],
      "source": [
        "import pathlib\n",
        "import textwrap\n",
        "\n",
        "import google.generativeai as genai\n",
        "\n",
        "from IPython.display import display\n",
        "from IPython.display import Markdown\n",
        "\n",
        "\n",
        "def to_markdown(text):\n",
        "  text = text.replace('•', '  *')\n",
        "  return Markdown(textwrap.indent(text, '> ', predicate=lambda _: True))"
      ]
    },
    {
      "cell_type": "code",
      "execution_count": null,
      "metadata": {
        "id": "yua5SMvew8yk"
      },
      "outputs": [],
      "source": [
        "# Used to securely store your API key\n",
        "from google.colab import userdata"
      ]
    },
    {
      "cell_type": "code",
      "execution_count": null,
      "metadata": {
        "id": "XH5BZx01xCvu"
      },
      "outputs": [],
      "source": [
        "# Or use `os.getenv('GOOGLE_API_KEY')` to fetch an environment variable.\n",
        "GOOGLE_API_KEY=userdata.get('GOOGLE_API_KEY')\n",
        "\n",
        "genai.configure(api_key=GOOGLE_API_KEY)"
      ]
    },
    {
      "cell_type": "markdown",
      "metadata": {
        "id": "nkSm7j4J0os9"
      },
      "source": [
        "# MindSpark List models"
      ]
    },
    {
      "cell_type": "code",
      "execution_count": null,
      "metadata": {
        "id": "Xmg-ksiFxF8h"
      },
      "outputs": [],
      "source": [
        "#Calling list models\n",
        "for m in genai.list_models():\n",
        "  if 'generateContent' in m.supported_generation_methods:\n",
        "    print(m.name)"
      ]
    },
    {
      "cell_type": "code",
      "execution_count": null,
      "metadata": {
        "id": "-GecViWXxQHd"
      },
      "outputs": [],
      "source": [
        "#Generate text inputs\n",
        "model = genai.GenerativeModel('gemini-pro')"
      ]
    },
    {
      "cell_type": "code",
      "execution_count": null,
      "metadata": {
        "id": "H9KXmdqExXPR"
      },
      "outputs": [],
      "source": [
        "#Response time\n",
        "%%time\n",
        "response = model.generate_content(\"Make a educational quiz with a 6th grade math textbook?\")"
      ]
    },
    {
      "cell_type": "code",
      "execution_count": null,
      "metadata": {
        "id": "gg8mujHrxedw"
      },
      "outputs": [],
      "source": [
        "#Markdown\n",
        "to_markdown(response.text)"
      ]
    },
    {
      "cell_type": "code",
      "execution_count": null,
      "metadata": {
        "id": "R7XYMa9ExxSJ"
      },
      "outputs": [],
      "source": [
        "#Response Feedback\n",
        "response.prompt_feedback"
      ]
    },
    {
      "cell_type": "code",
      "execution_count": null,
      "metadata": {
        "id": "PSOOktJgx2SY"
      },
      "outputs": [],
      "source": [
        "response.candidates"
      ]
    },
    {
      "cell_type": "code",
      "execution_count": null,
      "metadata": {
        "id": "fNM8MaEcx7OF",
        "colab": {
          "base_uri": "https://localhost:8080/",
          "height": 52
        },
        "outputId": "bc5eea47-cdd1-4b80-ee76-9300e5b5c187"
      },
      "outputs": [
        {
          "output_type": "stream",
          "name": "stdout",
          "text": [
            "CPU times: user 111 ms, sys: 4.47 ms, total: 116 ms\n",
            "Wall time: 5.68 s\n"
          ]
        }
      ],
      "source": [
        "%%time\n",
        "response = model.generate_content(\"Make a educational quiz with a 6th grade math textbook?\", stream=True)"
      ]
    },
    {
      "cell_type": "code",
      "execution_count": null,
      "metadata": {
        "id": "7TOUryW6yF31",
        "colab": {
          "base_uri": "https://localhost:8080/"
        },
        "outputId": "e81d10d3-edd6-4374-d29e-c7c7f8ae1122"
      },
      "outputs": [
        {
          "output_type": "stream",
          "name": "stdout",
          "text": [
            "**6th Grade Math Textbook Quiz**\n",
            "\n",
            "**Instructions:** Answer the following questions\n",
            "________________________________________________________________________________\n",
            " based on the material covered in your 6th grade math textbook.\n",
            "\n",
            "**Questions:**\n",
            "\n",
            "1. Find the mean of the following numbers: 12\n",
            "________________________________________________________________________________\n",
            ", 15, 18, 20, 22\n",
            "2. Solve for x in the equation: 5x + 10 = 50\n",
            "3. Find the perimeter of a rectangle with a length of 10 cm and a width of 5 cm.\n",
            "4\n",
            "________________________________________________________________________________\n",
            ". Calculate the area of a triangle with a base of 8 cm and a height of 6 cm.\n",
            "5. Convert 1.5 meters to centimeters.\n",
            "6. What is the slope of the line that passes through the points (2, 5) and (6, 12)?\n",
            "7. Find the volume of a cube with a side length of 5 cm.\n",
            "8. Solve the inequality: x > -5\n",
            "9. Graph the line y = 2x + 1.\n",
            "10. Calculate the circumference of a circle with a radius of 4 cm.\n",
            "\n",
            "**Answer\n",
            "________________________________________________________________________________\n",
            " Key:**\n",
            "\n",
            "1. 17\n",
            "2. 8\n",
            "3. 30 cm\n",
            "4. 24 cm²\n",
            "5. 150 cm\n",
            "6. 1\n",
            "7. 125 cm³\n",
            "8. x > -5\n",
            "9. See graph\n",
            "10. 8π cm ≈ 25.13 cm\n",
            "________________________________________________________________________________\n"
          ]
        }
      ],
      "source": [
        "for chunk in response:\n",
        "  print(chunk.text)\n",
        "  print(\"_\"*80)"
      ]
    },
    {
      "cell_type": "code",
      "execution_count": null,
      "metadata": {
        "id": "6k1fNsXoyLav"
      },
      "outputs": [],
      "source": [
        "response = model.generate_content(\"Ask 5 questions from this quiz?\", stream=True)"
      ]
    },
    {
      "cell_type": "code",
      "execution_count": null,
      "metadata": {
        "id": "ZmMuUNkIy2OK",
        "colab": {
          "base_uri": "https://localhost:8080/"
        },
        "outputId": "f5af5091-edee-4664-edb8-eed959caec88"
      },
      "outputs": [
        {
          "output_type": "execute_result",
          "data": {
            "text/plain": []
          },
          "metadata": {},
          "execution_count": 19
        }
      ],
      "source": [
        "response.prompt_feedback"
      ]
    },
    {
      "cell_type": "code",
      "execution_count": null,
      "metadata": {
        "id": "tENGHH8Oy6OA"
      },
      "outputs": [],
      "source": [
        "try:\n",
        "  response.text\n",
        "except Exception as e:\n",
        "  print(f'{type(e).__name__}: {e}')"
      ]
    },
    {
      "cell_type": "markdown",
      "metadata": {
        "id": "Qde7KiTdzHYy"
      },
      "source": [
        "# MindSpark Chat interaction"
      ]
    },
    {
      "cell_type": "code",
      "execution_count": null,
      "metadata": {
        "id": "rBKQQsTFy7NF"
      },
      "outputs": [],
      "source": [
        "model = genai.GenerativeModel('gemini-pro')\n",
        "chat = model.start_chat(history=[])\n",
        "chat"
      ]
    },
    {
      "cell_type": "code",
      "execution_count": null,
      "metadata": {
        "id": "b6oCjzXSzq1i",
        "colab": {
          "base_uri": "https://localhost:8080/",
          "height": 492
        },
        "outputId": "c26dfdea-701a-4e2e-cdf1-fc26b2e8f378"
      },
      "outputs": [
        {
          "output_type": "execute_result",
          "data": {
            "text/plain": [
              "<IPython.core.display.Markdown object>"
            ],
            "text/markdown": "> **6th Grade Math Textbook Trivia Game**\n> \n> **Questions:**\n> \n> 1. What is the value of x in the equation 2x + 5 = 15?\n> 2. What is the area of a rectangle with a length of 10 cm and a width of 5 cm?\n> 3. What is the volume of a cube with a side length of 3 cm?\n> 4. What is the slope of the line that passes through the points (2, 3) and (5, 7)?\n> 5. What is the perimeter of a circle with a radius of 5 cm?\n> 6. What is the mean of the following set of numbers: 5, 8, 10, 12, 15?\n> 7. What is the probability of rolling a 6 on a standard six-sided die?\n> 8. What is the surface area of a sphere with a radius of 4 cm?\n> 9. What is the value of 3^4?\n> 10. What is the quotient of 120 divided by 15?\n> \n> **Answers:**\n> \n> 1. 5\n> 2. 50 cm²\n> 3. 27 cm³\n> 4. 2/3\n> 5. 10π cm\n> 6. 10\n> 7. 1/6\n> 8. 50.24 cm²\n> 9. 81\n> 10. 8"
          },
          "metadata": {},
          "execution_count": 23
        }
      ],
      "source": [
        "response = chat.send_message(\"Make a game with 10 questions from a 6th grade math textbook.\")\n",
        "to_markdown(response.text)"
      ]
    },
    {
      "cell_type": "code",
      "execution_count": null,
      "metadata": {
        "id": "sxNhROHY0BvH"
      },
      "outputs": [],
      "source": [
        "chat.history"
      ]
    },
    {
      "cell_type": "code",
      "execution_count": null,
      "metadata": {
        "id": "kJm7Pp3R0F7Y",
        "colab": {
          "base_uri": "https://localhost:8080/",
          "height": 1000
        },
        "outputId": "3155b59c-fc7e-4e25-dd21-4d6c8d0791b7"
      },
      "outputs": [
        {
          "output_type": "stream",
          "name": "stdout",
          "text": [
            "**Detailed Explanation of Game for Middle Schooler:**\n",
            "\n",
            "**Game:** 6\n",
            "________________________________________________________________________________\n",
            "th Grade Math Textbook Trivia Game\n",
            "\n",
            "**Objective:** To test your knowledge of 6th grade math concepts.\n",
            "\n",
            "**Rules:**\n",
            "\n",
            "1. There are \n",
            "________________________________________________________________________________\n",
            "10 questions in total.\n",
            "2. Each question is worth 1 point.\n",
            "3. You have unlimited time to answer each question.\n",
            "4. You can use a calculator if you need to.\n",
            "\n",
            "**Questions:**\n",
            "\n",
            "1. **What is the value of x in the equation 2x + \n",
            "________________________________________________________________________________\n",
            "5 = 15?**\n",
            "   - Imagine you have two boxes of cookies, each with x cookies inside. You also have 5 extra cookies. If you put all the cookies together, you have 15 cookies. So, how many cookies are in each box? To find out, we need to solve the equation 2x + 5 = 15. We can do this by subtracting 5 from both sides of the equation, which gives us 2x = 10. Then, we can divide both sides by 2, which gives us x = 5. Therefore, the value of\n",
            "________________________________________________________________________________\n",
            " x is **5**.\n",
            "\n",
            "2. **What is the area of a rectangle with a length of 10 cm and a width of 5 cm?**\n",
            "   - Imagine you have a rectangular piece of paper that is 10 cm long and 5 cm wide. To find the area of the paper, you need to multiply the length by the width. So, the area of the paper is 10 cm * 5 cm = **50 cm²**.\n",
            "\n",
            "3. **What is the volume of a cube with a side length of 3 cm?**\n",
            "   - Imagine you have a cube-shaped box that is 3 cm long, 3 cm wide, and 3 cm high. To find the volume of the box, you need to multiply the length by the width by the height. So, the volume of the box is 3 cm * 3 cm * 3 cm = **27 cm³**.\n",
            "\n",
            "4. **What is the slope of the line that passes through the points (2, 3) and (5, 7)?**\n",
            "   - Imagine you have a line that goes through the points (2, 3) and (5, 7). The slope of the line\n",
            "________________________________________________________________________________\n",
            " tells you how steep the line is. To find the slope, you need to divide the change in y by the change in x. In this case, the change in y is 7 - 3 = 4, and the change in x is 5 - 2 = 3. So, the slope of the line is 4/3 = **1.33**.\n",
            "\n",
            "5. **What is the perimeter of a circle with a radius of 5 cm?**\n",
            "   - Imagine you have a circular pizza with a radius of 5 cm. The perimeter of the pizza is the distance around the edge of the pizza. To find the perimeter, you need to multiply the diameter by π. The diameter of a circle is twice the radius, so the diameter of this pizza is 5 cm * 2 = 10 cm. So, the perimeter of the pizza is 10 cm * π = **15.7 cm**.\n",
            "\n",
            "6. **What is the mean of the following set of numbers: 5, 8, 10, 12, 15?**\n",
            "   - Imagine you have a bag of 5 marbles, 8 marbles, 10 marbles, 12 marbles, and 15 marbles. The mean of the set of numbers is the average number of marbles in the bag. To find the mean, you need to add up all the numbers and then divide by the total number of numbers. In this case, the mean is (5 + 8 + 10 + 12 + 15) / 5 = 50 / 5 = **10**.\n",
            "\n",
            "7. **What is the probability of rolling a 6 on a standard six-sided die?**\n",
            "   - Imagine you have a six-sided die with the numbers 1 to 6 on it. The probability of rolling a 6 is the chance that you will roll a 6 when you roll the die. There is only one way to roll a 6, and there are six possible outcomes when you roll the die. So, the probability of rolling a 6 is 1/6 = **0.16**.\n",
            "\n",
            "8. **What is the surface area of a sphere with a radius of 4 cm?**\n",
            "   - Imagine you have a spherical ball with a radius of 4 cm. The surface area of the ball is the total area of the outside of the ball. To find the\n",
            "________________________________________________________________________________\n",
            " surface area, you need to multiply the surface area formula (4πr²) by the square of the radius. So, the surface area of the ball is 4π * 4 cm² = **50.24 cm²**.\n",
            "\n",
            "9. **What is the value of 3^4?**\n",
            "   - 3^4 means 3 multiplied by itself four times. So, 3^4 is 3 * 3 * 3 * 3 = **81**.\n",
            "\n",
            "10. **What is the quotient of 120 divided by 15?**\n",
            "   - The quotient of two numbers is the result of dividing one number by the other. So, the quotient of 120 divided by 15 is 120 / 15 = **8**.\n",
            "________________________________________________________________________________\n"
          ]
        }
      ],
      "source": [
        "response = chat.send_message(\"Okay, how about a more detailed explanation to a middle schooler?\", stream=True)\n",
        "\n",
        "for chunk in response:\n",
        "  print(chunk.text)\n",
        "  print(\"_\"*80)"
      ]
    },
    {
      "cell_type": "code",
      "execution_count": null,
      "metadata": {
        "id": "M4Z89Uyy0Rc7"
      },
      "outputs": [],
      "source": [
        "for message in chat.history:\n",
        "  display(to_markdown(f'**{message.role}**: {message.parts[0].text}'))"
      ]
    },
    {
      "cell_type": "code",
      "execution_count": null,
      "metadata": {
        "id": "3311R4kC7gw2",
        "colab": {
          "base_uri": "https://localhost:8080/",
          "height": 492
        },
        "outputId": "56610433-11ed-411e-851e-e6d2a8cae209"
      },
      "outputs": [
        {
          "output_type": "execute_result",
          "data": {
            "text/plain": [
              "<IPython.core.display.Markdown object>"
            ],
            "text/markdown": "> **Math Trivia Game for 6th Graders**\n> \n> **Questions:**\n> \n> 1. What is the value of 1/2 + 2/3?\n> 2. Simplify the expression: 2x + 3x - 5\n> 3. Solve for x: 2(x - 3) = 10\n> 4. Find the area of a rectangle with a length of 5 cm and a width of 3 cm.\n> 5. Convert 12 inches to feet.\n> 6. What is the perimeter of a square with a side length of 4 cm?\n> 7. Find the volume of a cube with an edge length of 3 cm.\n> 8. Simplify the fraction 12/18.\n> 9. Solve for y: y - 5 = 10\n> 10. Find the mean of the following numbers: 12, 15, 18, 21, 24\n> \n> **Answers:**\n> \n> 1. 7/6\n> 2. 5x - 5\n> 3. x = 8\n> 4. 15 cm²\n> 5. 1 foot\n> 6. 16 cm\n> 7. 27 cm³\n> 8. 2/3\n> 9. y = 15\n> 10. 18"
          },
          "metadata": {},
          "execution_count": 30
        }
      ],
      "source": [
        "model = genai.GenerativeModel('gemini-pro')\n",
        "\n",
        "messages = [\n",
        "    {'role':'user',\n",
        "     'parts': [\"Make a game with 10 questions from a 6th grade math textbook.\"]}\n",
        "]\n",
        "response = model.generate_content(messages)\n",
        "\n",
        "to_markdown(response.text)"
      ]
    },
    {
      "cell_type": "code",
      "execution_count": null,
      "metadata": {
        "id": "b_RNl_nO7sgn",
        "colab": {
          "base_uri": "https://localhost:8080/",
          "height": 1000
        },
        "outputId": "dce6a1a7-c936-4e0b-938c-39de5f3b553d"
      },
      "outputs": [
        {
          "output_type": "execute_result",
          "data": {
            "text/plain": [
              "<IPython.core.display.Markdown object>"
            ],
            "text/markdown": "> **Math Trivia Game for Middle School Students**\n> \n> **Instructions:**\n> \n> 1. Read each question carefully.\n> 2. Write your answer on a piece of paper.\n> 3. Check your answers against the answer key at the end.\n> \n> **Questions:**\n> \n> 1. **Fractions:** What is the value of 1/2 + 2/3?\n>    - To add fractions with different denominators, find a common denominator. In this case, the common denominator is 6.\n>    - Rewrite the fractions with the common denominator: 1/2 = 3/6 and 2/3 = 4/6.\n>    - Add the numerators: 3/6 + 4/6 = 7/6.\n>    - Therefore, the value of 1/2 + 2/3 is 7/6.\n> \n> 2. **Algebra:** Simplify the expression: 2x + 3x - 5\n>    - Combine like terms, which are terms with the same variable and exponent.\n>    - In this case, the like terms are 2x and 3x.\n>    - Combine them: 2x + 3x = 5x.\n>    - Therefore, the simplified expression is 5x - 5.\n> \n> 3. **Algebra:** Solve for x: 2(x - 3) = 10\n>    - Distribute the 2 to the terms inside the parentheses: 2x - 6 = 10.\n>    - Add 6 to both sides of the equation: 2x = 16.\n>    - Divide both sides by 2: x = 8.\n>    - Therefore, the value of x is 8.\n> \n> 4. **Geometry:** Find the area of a rectangle with a length of 5 cm and a width of 3 cm.\n>    - The area of a rectangle is found by multiplying the length by the width.\n>    - In this case, the area is 5 cm x 3 cm = 15 cm².\n>    - Therefore, the area of the rectangle is 15 cm².\n> \n> 5. **Measurement:** Convert 12 inches to feet.\n>    - There are 12 inches in 1 foot.\n>    - Therefore, 12 inches is equal to 1 foot.\n> \n> 6. **Geometry:** Find the perimeter of a square with a side length of 4 cm.\n>    - The perimeter of a square is found by multiplying the side length by 4.\n>    - In this case, the perimeter is 4 cm x 4 = 16 cm.\n>    - Therefore, the perimeter of the square is 16 cm.\n> \n> 7. **Geometry:** Find the volume of a cube with an edge length of 3 cm.\n>    - The volume of a cube is found by cubing the edge length.\n>    - In this case, the volume is 3 cm x 3 cm x 3 cm = 27 cm³.\n>    - Therefore, the volume of the cube is 27 cm³.\n> \n> 8. **Fractions:** Simplify the fraction 12/18.\n>    - To simplify a fraction, find the greatest common factor (GCF) of the numerator and denominator.\n>    - In this case, the GCF of 12 and 18 is 6.\n>    - Divide both the numerator and denominator by the GCF: 12/18 ÷ 6/6 = 2/3.\n>    - Therefore, the simplified fraction is 2/3.\n> \n> 9. **Algebra:** Solve for y: y - 5 = 10\n>    - Add 5 to both sides of the equation: y - 5 + 5 = 10 + 5.\n>    - Simplify both sides: y = 15.\n>    - Therefore, the value of y is 15.\n> \n> 10. **Statistics:** Find the mean of the following numbers: 12, 15, 18, 21, 24\n>    - The mean is the average of a set of numbers.\n>    - To find the mean, add up all the numbers and divide by the number of numbers.\n>    - In this case, the mean is (12 + 15 + 18 + 21 + 24) ÷ 5 = 18.\n>    - Therefore, the mean of the given numbers is 18.\n> \n> **Answer Key:**\n> \n> 1. 7/6\n> 2. 5x - 5\n> 3. 8\n> 4. 15 cm²\n> 5. 1 foot\n> 6. 16 cm\n> 7. 27 cm³\n> 8. 2/3\n> 9. 15\n> 10. 18"
          },
          "metadata": {},
          "execution_count": 31
        }
      ],
      "source": [
        "messages.append({'role':'model',\n",
        "                 'parts':[response.text]})\n",
        "\n",
        "messages.append({'role':'user',\n",
        "                 'parts':[\"Okay, how about a more detailed explanation to a middle school student?\"]})\n",
        "\n",
        "response = model.generate_content(messages)\n",
        "\n",
        "to_markdown(response.text)"
      ]
    },
    {
      "cell_type": "markdown",
      "metadata": {
        "id": "l7rG31M0is9H"
      },
      "source": [
        "# Image Input and Generation"
      ]
    },
    {
      "cell_type": "code",
      "source": [
        "!curl -o image.jpg https://t0.gstatic.com/licensed-image?q=tbn:ANd9GcQ_Kevbk21QBRy-PgB4kQpS79brbmmEG7m3VOTShAn4PecDU5H5UxrJxE3Dw1JiaG17V88QIol19-3TM2wCHw"
      ],
      "metadata": {
        "id": "MQZZwm5RZHKW"
      },
      "execution_count": null,
      "outputs": []
    },
    {
      "cell_type": "code",
      "source": [
        "!curl -o image.png https://content.lessonplanet.com/resources/thumbnails/195766/large/njc0mjgylnbuzw.png?1414291796"
      ],
      "metadata": {
        "id": "Jk7LyPw_l5J-"
      },
      "execution_count": null,
      "outputs": []
    },
    {
      "cell_type": "code",
      "source": [
        "!curl -o image.gif https://www.k5learning.com/sites/all/files/worksheets/math/grade-6-math-worksheet.gif"
      ],
      "metadata": {
        "id": "DYhNfbWYq9NQ"
      },
      "execution_count": null,
      "outputs": []
    },
    {
      "cell_type": "code",
      "source": [
        "import PIL.Image\n",
        "\n",
        "img = PIL.Image.open('image.png')\n",
        "img"
      ],
      "metadata": {
        "id": "sbzRNDy6mBqQ",
        "colab": {
          "base_uri": "https://localhost:8080/",
          "height": 242
        },
        "outputId": "4b0d15d4-6c24-4b24-d289-968d2329ca9c"
      },
      "execution_count": null,
      "outputs": [
        {
          "output_type": "execute_result",
          "data": {
            "text/plain": [
              "<PIL.PngImagePlugin.PngImageFile image mode=RGB size=300x225>"
            ],
            "image/png": "[encoded data removed]"
          },
          "metadata": {},
          "execution_count": 50
        }
      ]
    },
    {
      "cell_type": "code",
      "execution_count": null,
      "metadata": {
        "id": "160NZfNHWa2Z"
      },
      "outputs": [],
      "source": [
        "import PIL.Image\n",
        "\n",
        "img = PIL.Image.open('image.jpg')\n",
        "img"
      ]
    },
    {
      "cell_type": "code",
      "source": [
        "import PIL.Image\n",
        "\n",
        "img = PIL.Image.open('image.gif')\n",
        "img"
      ],
      "metadata": {
        "id": "hx4soCYnrGZ5"
      },
      "execution_count": null,
      "outputs": []
    },
    {
      "cell_type": "code",
      "source": [
        "model = genai.GenerativeModel('gemini-pro-vision')"
      ],
      "metadata": {
        "id": "DaNNJAMtZ8x6"
      },
      "execution_count": null,
      "outputs": []
    },
    {
      "cell_type": "code",
      "source": [
        "response = model.generate_content(img)\n",
        "\n",
        "to_markdown(response.text)"
      ],
      "metadata": {
        "id": "cOkH916BaJP6",
        "colab": {
          "base_uri": "https://localhost:8080/",
          "height": 219
        },
        "outputId": "2189295e-3f86-4f71-95a8-1ab08e405958"
      },
      "execution_count": null,
      "outputs": [
        {
          "output_type": "execute_result",
          "data": {
            "text/plain": [
              "<IPython.core.display.Markdown object>"
            ],
            "text/markdown": ">  1. Sally Ride\n> 2. Clara Barton\n> 3. Betsy Ross\n> 4. Sandra Day O'Connor\n> 5. Amelia Earhart\n> 6. Jane Addams\n> 7. Lucy Stone\n> 8. Elizabeth Blackwell\n> 9. Mary Jenkins Surratt\n> 10. Charlotte Perkins Gilman"
          },
          "metadata": {},
          "execution_count": 52
        }
      ]
    },
    {
      "cell_type": "code",
      "source": [
        "response = model.generate_content([\"Make a educational quiz game from this image.\", img], stream=True)\n",
        "response.resolve()"
      ],
      "metadata": {
        "id": "m3WKC1ODsNwp"
      },
      "execution_count": null,
      "outputs": []
    },
    {
      "cell_type": "code",
      "source": [
        "to_markdown(response.text)"
      ],
      "metadata": {
        "id": "vFVhTUPVsRol",
        "colab": {
          "base_uri": "https://localhost:8080/",
          "height": 562
        },
        "outputId": "dea30484-ba9c-490b-c1ba-fcc9e6c60219"
      },
      "execution_count": null,
      "outputs": [
        {
          "output_type": "execute_result",
          "data": {
            "text/plain": [
              "<IPython.core.display.Markdown object>"
            ],
            "text/markdown": ">  Here is a quiz based on the image provided:\n> \n> **Women's History Vocabulary**\n> \n> **Name:**\n> \n> **Date:**\n> \n> **Instructions:** Complete the activity by filling in the blanks with the correct answers.\n> \n> 1. The first American woman to be sent into space was _____________________.\n> 2. The founder of the American Red Cross was _____________________.\n> 3. The first person to be U.S. flag bearer was _____________________.\n> 4. The first woman to serve on the Supreme Court was _____________________.\n> 5. The first woman to receive the Nobel Peace Prize was _____________________.\n> 6. The first female marine was _____________________.\n> 7. The first woman to fly solo across the Atlantic Ocean was _____________________.\n> 8. The first woman to ride a motorcycle across the Kentucky Ocean was _____________________.\n> 9. The first woman to receive a medical degree was _____________________.\n> 10. The first woman to graduate from dental school was _____________________.\n> \n> **Answers:**\n> \n> 1. Sally Ride\n> 2. Clara Barton\n> 3. Betsy Ross\n> 4. Sandra Day O'Connor\n> 5. Jane Addams\n> 6. Opha May Johnson\n> 7. Amelia Earhart\n> 8. Annie Cohen Kopchovsky\n> 9. Elizabeth Blackwell\n> 10. Lucy Hobbs Taylor"
          },
          "metadata": {},
          "execution_count": 56
        }
      ]
    },
    {
      "cell_type": "markdown",
      "metadata": {
        "id": "rL4vpVu-2ZB8"
      },
      "source": [
        "# Chatbox safety settings"
      ]
    },
    {
      "cell_type": "code",
      "execution_count": null,
      "metadata": {
        "id": "I6qiXYjz2g4x"
      },
      "outputs": [],
      "source": [
        "response = model.generate_content('[Can you say a bad word?]')\n",
        "response.candidates"
      ]
    },
    {
      "cell_type": "code",
      "execution_count": null,
      "metadata": {
        "id": "lo0TiPyd2oIk",
        "colab": {
          "base_uri": "https://localhost:8080/"
        },
        "outputId": "b6ed3376-5674-4d90-d37d-0e53e95c3b89"
      },
      "outputs": [
        {
          "output_type": "execute_result",
          "data": {
            "text/plain": []
          },
          "metadata": {},
          "execution_count": 33
        }
      ],
      "source": [
        "response.prompt_feedback"
      ]
    },
    {
      "cell_type": "code",
      "execution_count": null,
      "metadata": {
        "id": "ZsRFv9HR2rK2",
        "colab": {
          "base_uri": "https://localhost:8080/",
          "height": 53
        },
        "outputId": "50d99cf9-0ba7-4ef6-e7cc-3788cff03c88"
      },
      "outputs": [
        {
          "output_type": "execute_result",
          "data": {
            "text/plain": [
              "\"I'm sorry, I'm not supposed to generate responses that are inappropriate or offensive in nature. Would you like me to try generating something different?\""
            ],
            "application/vnd.google.colaboratory.intrinsic+json": {
              "type": "string"
            }
          },
          "metadata": {},
          "execution_count": 34
        }
      ],
      "source": [
        "response = model.generate_content('[Can you say a bad word?]',\n",
        "                                  safety_settings={'HARASSMENT':'block_none'})\n",
        "response.text"
      ]
    },
    {
      "cell_type": "markdown",
      "metadata": {
        "id": "rV-vEXqI8NHj"
      },
      "source": [
        "# Generative configurations"
      ]
    },
    {
      "cell_type": "code",
      "source": [
        "model.count_tokens(\"What is the meaning of life?\")"
      ],
      "metadata": {
        "id": "ADPEBhIkvH26",
        "colab": {
          "base_uri": "https://localhost:8080/",
          "height": 34
        },
        "outputId": "10c8139a-bb78-49e5-8a4e-52fd035e06fe"
      },
      "execution_count": null,
      "outputs": [
        {
          "output_type": "execute_result",
          "data": {
            "text/plain": [
              "total_tokens: 7"
            ]
          },
          "metadata": {},
          "execution_count": 35
        }
      ]
    },
    {
      "cell_type": "code",
      "source": [
        "model.count_tokens(chat.history)"
      ],
      "metadata": {
        "colab": {
          "base_uri": "https://localhost:8080/",
          "height": 34
        },
        "id": "l_IEDFIsvOM7",
        "outputId": "2ed93e7c-e96c-43ab-ce55-175b9be8cde7"
      },
      "execution_count": null,
      "outputs": [
        {
          "output_type": "execute_result",
          "data": {
            "text/plain": [
              "total_tokens: 2716"
            ]
          },
          "metadata": {},
          "execution_count": 36
        }
      ]
    },
    {
      "cell_type": "code",
      "execution_count": null,
      "metadata": {
        "id": "I85cjCz78ROx"
      },
      "outputs": [],
      "source": [
        "model = genai.GenerativeModel('gemini-pro')\n",
        "response = model.generate_content(\n",
        "    'Tell me a story about a magic backpack.',\n",
        "    generation_config=genai.types.GenerationConfig(\n",
        "        # Only one candidate for now.\n",
        "        candidate_count=1,\n",
        "        stop_sequences=['x'],\n",
        "        max_output_tokens=20,\n",
        "        temperature=1.0)\n",
        ")"
      ]
    },
    {
      "cell_type": "code",
      "execution_count": null,
      "metadata": {
        "id": "u94btgvA8nJx",
        "colab": {
          "base_uri": "https://localhost:8080/",
          "height": 618
        },
        "outputId": "e91d9ae0-6961-4558-fcda-9e260108c6ee"
      },
      "outputs": [
        {
          "output_type": "execute_result",
          "data": {
            "text/plain": [
              "<IPython.core.display.Markdown object>"
            ],
            "text/markdown": ">  Here is a quiz based on the image provided:\n> \n> **Questions:**\n> \n> 1. Who was the first American woman to be sent into space?\n> \n> \n> 2. Who was the founder of the American Red Cross?\n> \n> \n> 3. Who was the first person to be U.S. flag bearer?\n> \n> \n> 4. Who was the first woman to serve on the Supreme Court?\n> \n> \n> 5. Who was the first woman to receive the Nobel Peace Prize?\n> \n> \n> 6. Who was the first female marine?\n> \n> \n> 7. Who was the first woman to fly solo across the Atlantic Ocean?\n> \n> \n> 8. Who was the first woman to ride a motorcycle across the Kentucky Ocean?\n> \n> \n> 9. Who was the first woman to receive a medical degree?\n> \n> \n> 10. Who was the first woman to graduate from dental school?\n> \n> \n> **Answers:**\n> \n> 1. Sally Ride\n> 2. Clara Barton\n> 3. Betsy Ross\n> 4. Sandra Day O'Connor\n> 5. Jane Addams\n> 6. Opha May Johnson\n> 7. Amelia Earhart\n> 8. Effie Hotchkiss\n> 9. Elizabeth Blackwell\n> 10. Lucy Hobbs"
          },
          "metadata": {},
          "execution_count": 62
        }
      ],
      "source": [
        "text = response.text\n",
        "\n",
        "if response.candidates[0].finish_reason.name == \"MAX_TOKENS\":\n",
        "    text += '...'\n",
        "\n",
        "to_markdown(text)"
      ]
    },
    {
      "cell_type": "markdown",
      "source": [
        "# Embeddings"
      ],
      "metadata": {
        "id": "tmkDimLIwppy"
      }
    },
    {
      "cell_type": "code",
      "source": [
        "result = genai.embed_content(\n",
        "    model=\"models/embedding-001\",\n",
        "    content=\"What is the meaning of life?\",\n",
        "    task_type=\"retrieval_document\",\n",
        "    title=\"Embedding of single string\")\n",
        "\n",
        "# 1 input > 1 vector output\n",
        "print(str(result['embedding'])[:50], '... TRIMMED]')"
      ],
      "metadata": {
        "colab": {
          "base_uri": "https://localhost:8080/",
          "height": 34
        },
        "id": "CHoJ35xlwuSP",
        "outputId": "3ab38654-a47a-46de-cbb3-265fb724d765"
      },
      "execution_count": null,
      "outputs": [
        {
          "output_type": "stream",
          "name": "stdout",
          "text": [
            "[-0.003216741, -0.013358698, -0.017649598, -0.0091 ... TRIMMED]\n"
          ]
        }
      ]
    },
    {
      "cell_type": "code",
      "source": [
        "result = genai.embed_content(\n",
        "    model=\"models/embedding-001\",\n",
        "    content=[\n",
        "      'What is the meaning of life?',\n",
        "      'How much wood would a woodchuck chuck?',\n",
        "      'How does the brain work?'],\n",
        "    task_type=\"retrieval_document\",\n",
        "    title=\"Embedding of list of strings\")\n",
        "\n",
        "# A list of inputs > A list of vectors output\n",
        "for v in result['embedding']:\n",
        "  print(str(v)[:50], '... TRIMMED ...')"
      ],
      "metadata": {
        "colab": {
          "base_uri": "https://localhost:8080/",
          "height": 69
        },
        "id": "2CmjFrfBw1i6",
        "outputId": "32d5e1f2-10c9-4d3f-86c1-18c884463b2e"
      },
      "execution_count": null,
      "outputs": [
        {
          "output_type": "stream",
          "name": "stdout",
          "text": [
            "[0.0040260437, 0.004124458, -0.014209415, -0.00183 ... TRIMMED ...\n",
            "[-0.004049845, -0.0075574904, -0.0073463684, -0.03 ... TRIMMED ...\n",
            "[0.025310587, -0.0080734305, -0.029902633, 0.01160 ... TRIMMED ...\n"
          ]
        }
      ]
    },
    {
      "cell_type": "code",
      "source": [
        "response.candidates[0].content"
      ],
      "metadata": {
        "id": "uPAtQtelw35J",
        "colab": {
          "base_uri": "https://localhost:8080/"
        },
        "outputId": "2937fe56-d68f-46f4-9746-2af27713b321"
      },
      "execution_count": null,
      "outputs": [
        {
          "output_type": "execute_result",
          "data": {
            "text/plain": []
          },
          "metadata": {},
          "execution_count": 43
        }
      ]
    },
    {
      "cell_type": "code",
      "source": [
        "result = genai.embed_content(\n",
        "    model = 'models/embedding-001',\n",
        "    content = response.candidates[0].content)\n",
        "\n",
        "# 1 input > 1 vector output\n",
        "print(str(result['embedding'])[:50], '... TRIMMED ...')"
      ],
      "metadata": {
        "id": "ifvrj2blw7Yc",
        "colab": {
          "base_uri": "https://localhost:8080/",
          "height": 34
        },
        "outputId": "4018fc69-092a-4600-fd9c-498a61ad193f"
      },
      "execution_count": null,
      "outputs": [
        {
          "output_type": "stream",
          "name": "stdout",
          "text": [
            "[0.014880341, -0.05473193, -0.016474485, -0.009896 ... TRIMMED ...\n"
          ]
        }
      ]
    },
    {
      "cell_type": "code",
      "source": [
        "chat.history"
      ],
      "metadata": {
        "id": "_TJWfAT7w9Iv"
      },
      "execution_count": null,
      "outputs": []
    },
    {
      "cell_type": "code",
      "source": [
        "result = genai.embed_content(\n",
        "    model = 'models/embedding-001',\n",
        "    content = chat.history)\n",
        "\n",
        "# 1 input > 1 vector output\n",
        "for i,v in enumerate(result['embedding']):\n",
        "  print(str(v)[:50], '... TRIMMED...')"
      ],
      "metadata": {
        "id": "v_NkNUofy00o"
      },
      "execution_count": null,
      "outputs": []
    },
    {
      "cell_type": "markdown",
      "source": [
        "# Encoded messages"
      ],
      "metadata": {
        "id": "mGmMfitKzOGx"
      }
    },
    {
      "cell_type": "code",
      "source": [
        "import google.ai.generativelanguage as glm"
      ],
      "metadata": {
        "id": "XQJukwqNzSHA"
      },
      "execution_count": null,
      "outputs": []
    },
    {
      "cell_type": "code",
      "source": [
        "model = genai.GenerativeModel('gemini-pro-vision')\n",
        "response = model.generate_content(\n",
        "    glm.Content(\n",
        "        parts = [\n",
        "            glm.Part(text=\"Make a educational quiz game from this image.\"),\n",
        "            glm.Part(\n",
        "                inline_data=glm.Blob(\n",
        "                    mime_type='image/png',\n",
        "                    data=pathlib.Path('image.png').read_bytes()\n",
        "                )\n",
        "            ),\n",
        "        ],\n",
        "    ),\n",
        "    stream=True)"
      ],
      "metadata": {
        "id": "NjZk_QxFzWRj"
      },
      "execution_count": null,
      "outputs": []
    },
    {
      "cell_type": "code",
      "execution_count": null,
      "metadata": {
        "id": "wKithEbeRzDX",
        "outputId": "cbda9e26-4884-4f6b-934b-c6f510a1e8de",
        "colab": {
          "base_uri": "https://localhost:8080/",
          "height": 117
        }
      },
      "outputs": [
        {
          "output_type": "execute_result",
          "data": {
            "text/plain": [
              "<IPython.core.display.Markdown object>"
            ],
            "text/markdown": ">  Here is a quiz based on the image provided:\n> \n> **Questions:**\n> \n> 1. Who was the first American woman to... [TRIMMED] ..."
          },
          "metadata": {},
          "execution_count": 61
        }
      ],
      "source": [
        "response.resolve()\n",
        "\n",
        "to_markdown(response.text[:100] + \"... [TRIMMED] ...\")"
      ]
    }
  ],
  "metadata": {
    "colab": {
      "provenance": [],
      "toc_visible": true,
      "include_colab_link": true
    },
    "kernelspec": {
      "display_name": "Python 3",
      "name": "python3"
    },
    "language_info": {
      "name": "python"
    }
  },
  "nbformat": 4,
  "nbformat_minor": 0
}
